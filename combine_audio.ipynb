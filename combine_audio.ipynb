{
 "cells": [
  {
   "cell_type": "markdown",
   "id": "104dc0b3",
   "metadata": {},
   "source": [
    "# Combining audio file data from The Quantum Glissando Effect Simulation\n",
    "\n",
    "Install the following in this Notebook by uncommenting the lines, similar to the Quantum Glissando Effect Notebook."
   ]
  },
  {
   "cell_type": "code",
   "execution_count": 1,
   "id": "b16cbbee",
   "metadata": {},
   "outputs": [],
   "source": [
    "#pip install pydub\n",
    "#pip install numpy"
   ]
  },
  {
   "cell_type": "markdown",
   "id": "8027d1b7",
   "metadata": {},
   "source": [
    "# Find the names of all audio files and print them to the output\n",
    "\n",
    "This must be done to ensure the names are correct and that the final time value (`tf`) is correct."
   ]
  },
  {
   "cell_type": "code",
   "execution_count": 9,
   "id": "e395f9de",
   "metadata": {},
   "outputs": [
    {
     "name": "stdout",
     "output_type": "stream",
     "text": [
      "189\n"
     ]
    },
    {
     "data": {
      "text/plain": [
       "1890"
      ]
     },
     "execution_count": 9,
     "metadata": {},
     "output_type": "execute_result"
    }
   ],
   "source": [
    "import glob\n",
    "import os\n",
    "\n",
    "directory=\".\"\n",
    "wav_files = glob.glob(os.path.join(directory, \"output_eigh*.wav\"))\n",
    "\n",
    "tf = len(wav_files) * 10"
   ]
  },
  {
   "cell_type": "code",
   "execution_count": 4,
   "id": "0aa117bc",
   "metadata": {
    "scrolled": true
   },
   "outputs": [
    {
     "data": {
      "text/plain": [
       "<_io.BufferedRandom name='combined_0_2_slow.mp3'>"
      ]
     },
     "execution_count": 4,
     "metadata": {},
     "output_type": "execute_result"
    }
   ],
   "source": [
    "from pydub import AudioSegment\n",
    "import numpy as np\n",
    "\n",
    "# Load the first audio file to start building the audio file:\n",
    "combined = AudioSegment.from_file(f\"output_eigh0.wav\", format=\"wav\")\n",
    "\n",
    "# Combine the rest of the audio files with the first audio file:\n",
    "for i in np.arange(10, tf, 10):\n",
    "    audio1 = AudioSegment.from_file(f\"output_eigh{int(i)}.wav\", format=\"wav\")\n",
    "    combined += audio1 #+ audio2\n",
    "\n",
    "# Export the combined audio\n",
    "combined.export(\"combined.mp3\", format=\"mp3\")"
   ]
  },
  {
   "cell_type": "code",
   "execution_count": null,
   "id": "426c93ea",
   "metadata": {},
   "outputs": [],
   "source": []
  }
 ],
 "metadata": {
  "kernelspec": {
   "display_name": "Python 3 (ipykernel)",
   "language": "python",
   "name": "python3"
  },
  "language_info": {
   "codemirror_mode": {
    "name": "ipython",
    "version": 3
   },
   "file_extension": ".py",
   "mimetype": "text/x-python",
   "name": "python",
   "nbconvert_exporter": "python",
   "pygments_lexer": "ipython3",
   "version": "3.10.10"
  }
 },
 "nbformat": 4,
 "nbformat_minor": 5
}
